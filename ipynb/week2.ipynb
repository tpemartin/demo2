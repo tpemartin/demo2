{
 "cells": [
  {
   "cell_type": "code",
   "execution_count": 1,
   "metadata": {},
   "outputs": [],
   "source": [
    "from IPython.core.interactiveshell import InteractiveShell\n",
    "InteractiveShell.ast_node_interactivity = \"all\"\n"
   ]
  },
  {
   "cell_type": "code",
   "execution_count": 2,
   "metadata": {},
   "outputs": [],
   "source": [
    "A=2"
   ]
  },
  {
   "cell_type": "code",
   "execution_count": 4,
   "metadata": {},
   "outputs": [],
   "source": [
    "import pandas as pd\n",
    "import os\n",
    "# import matplotlib as mpl\n",
    "import numpy as np"
   ]
  },
  {
   "cell_type": "markdown",
   "metadata": {},
   "source": [
    "Tuple as key"
   ]
  },
  {
   "cell_type": "code",
   "execution_count": 5,
   "metadata": {},
   "outputs": [],
   "source": [
    "import numpy as np\n",
    "game = {\n",
    "    (\"top\",\"left\"): np.array([2, 4]),\n",
    "    (\"top\",\"right\"): np.array([0, 2]),\n",
    "    (\"bottom\",\"left\"): np.array([4, 2]),\n",
    "    (\"bottom\",\"right\"): np.array([2, 0])\n",
    "}"
   ]
  },
  {
   "cell_type": "code",
   "execution_count": 6,
   "metadata": {},
   "outputs": [
    {
     "data": {
      "text/plain": [
       "array([2, 4])"
      ]
     },
     "execution_count": 6,
     "metadata": {},
     "output_type": "execute_result"
    }
   ],
   "source": [
    "game[(\"top\", \"left\")]"
   ]
  },
  {
   "cell_type": "code",
   "execution_count": 7,
   "metadata": {},
   "outputs": [
    {
     "name": "stdout",
     "output_type": "stream",
     "text": [
      "[10, 2, 3, 4, 5]\n",
      "{'name': 'Jane', 'age': 36, 'birthday': '01/01/1985'}\n",
      "[10, 2, 3, 4]\n",
      "{'name': 'Jane', 'age': 36}\n",
      "[7, 10, 2, 3, 4, 6]\n",
      "{'name': 'Jane', 'age': 36, 'birthday': '01/01/1985'}\n"
     ]
    }
   ],
   "source": [
    "list_example = [1, 2, 3, 4, 5]\n",
    "dict_example = {\"name\": \"John\", \"age\": 36, \"birthday\": \"01/01/1985\"}\n",
    "\n",
    "# change values\n",
    "list_example[0] = 10\n",
    "dict_example[\"name\"] = \"Jane\"\n",
    "print(list_example)\n",
    "print(dict_example)\n",
    "\n",
    "# delete values\n",
    "del list_example[4]\n",
    "del dict_example[\"birthday\"]\n",
    "print(list_example)\n",
    "print(dict_example)\n",
    "\n",
    "# add values\n",
    "list_example.append(6) # add 6 to the end of the list\n",
    "list_example.insert(0, 7) # add 4 to the beginning of the list\n",
    "dict_example[\"birthday\"] = \"01/01/1985\"\n",
    "print(list_example)\n",
    "print(dict_example)"
   ]
  },
  {
   "cell_type": "code",
   "execution_count": 10,
   "metadata": {},
   "outputs": [
    {
     "name": "stdout",
     "output_type": "stream",
     "text": [
      "[7, 10, 2, 3, 4, 6, 6, 6, 6]\n"
     ]
    },
    {
     "data": {
      "text/plain": [
       "6"
      ]
     },
     "execution_count": 10,
     "metadata": {},
     "output_type": "execute_result"
    },
    {
     "name": "stdout",
     "output_type": "stream",
     "text": [
      "[7, 10, 2, 3, 4, 6, 6, 6]\n"
     ]
    }
   ],
   "source": [
    "list_example.append(6)\n",
    "print(list_example)\n",
    "list_example.pop()\n",
    "print(list_example)"
   ]
  }
 ],
 "metadata": {
  "kernelspec": {
   "display_name": ".venv",
   "language": "python",
   "name": "python3"
  },
  "language_info": {
   "codemirror_mode": {
    "name": "ipython",
    "version": 3
   },
   "file_extension": ".py",
   "mimetype": "text/x-python",
   "name": "python",
   "nbconvert_exporter": "python",
   "pygments_lexer": "ipython3",
   "version": "3.11.5"
  },
  "orig_nbformat": 4
 },
 "nbformat": 4,
 "nbformat_minor": 2
}
